{
 "cells": [
  {
   "cell_type": "markdown",
   "metadata": {},
   "source": [
    "## Part 1: Problem & Data"
   ]
  },
  {
   "cell_type": "markdown",
   "metadata": {},
   "source": [
    "Over the last few decades, a keen interest has been placed in investigating the human genome. In fact, it wasn't until 2003 that the Human Genome Project, an international scientific research project, was successful in sequencing the human genome for the first time in history. Along with this revolutionary discovery, came breakthroughs in DNA sequencing and genotyping technologies that have greatly influenced recent genetic endeavors. As an example, in 2015, the 1000 Genome Project, another international scientific effort, produced the most extensive catalogue of human genetic variation for populations all across the world. From this, the process of examining genetic variations amongst humans, or genotyping, has become ever more achievable for geneticists and biotechnology companies like 23andMe alike. Examination of such information opens pathways for investigating genetic ancestry, determining gene functionality, or even detecting and combating disease.\n",
    "\n",
    "Given the significance of the 1000 Genome Project's findings and the availability of its data to the public, this data will be used for the purposes of this project. This project will replicate the findings of John Novembre et al. as described in the article \"Genes mirror geography within Europe\". In this study, genetic variation amongst 3,000 European individuals, collected by the Population Reference Sample project, are investigated. Interestingly, despite relatively low levels of genetic differences amongst the sample, a strong correlation between genetic variation and geographic distances was found. In fact, clustering and plotting each of these individuals closely resembles the map of Europe as the name of the article suggests. However, given that worldwide genetic variation data is available thanks to the 1000 Genome Project, this project will aim to extend these boundaries to not only Europe but the world.\n",
    "\n",
    "Before beginning the investigation, it is important to evaluate the data at hand through the information provided in the article \"A global reference for human genetic variation\" published on Nature at https://www.nature.com/articles/nature15393. As previously mentioned, the data set available through the 1000 Genome Project will be used. The data set contains the reconstructed genomes of 2,504 reportedly healthy individuals from 26 self-reported populations in Africa, East Asia, Europe, South Asia, and the Americas. However, The International Sample Genome Resource (IGSR), an organization created to ensure the usability of the data, has expanded the data set to cover more populations. The genomes of the individuals were sequenced using both whole-genome sequencing and target exome sequencing. Variant discovery was of key importance as 24 sequence analysis tools were used along with machine learning techniques to minimize false positives and ensure a balance of sensitivity and specificity. In total, 88 million variant sites appear in the data set. The estimated power to detect SNPs and indels is >99% and >85% respectively for frequencies >1% and is >95% and >80% at frequencies >.5%. Despite its high performance, it should be noted that errors may still exist in the data set. On top of this, it is recognized that only thousands of individuals may not be fully representative of a world population of nearly 8 billion individuals."
   ]
  },
  {
   "cell_type": "markdown",
   "metadata": {},
   "source": [
    "----"
   ]
  },
  {
   "cell_type": "markdown",
   "metadata": {},
   "source": [
    "## Part 2: Data Considerations & Ingestion"
   ]
  },
  {
   "cell_type": "markdown",
   "metadata": {},
   "source": [
    "The data set mentioned above is housed at the IGSR website located at https://www.internationalgenome.org/data. The data is openly available to the public for access. However, as mentioned at https://www.internationalgenome.org/IGSR_disclaimer, the IGSR data comes from many different owners and as a result, there may be different restrictions on different pieces of data. It is also noted that data should not be exploited to infringe on the rights of third parties or the data owners. As for data privacy concerns, the data provided is anonymized and does not contain any medical or phenotype data that could identify individuals who are part of the sample. No attempt will be made to unanonymize the data during the download and processing portion of the data ingestion pipeline.\n",
    "\n",
    "In terms of ingesting the data, IGSR makes its data conveniently available through an FTP server at ftp://ftp.1000genomes.ebi.ac.uk/vol1/ftp. Therefore, the data will be accessed and downloaded here. The genetic data of interest is mainly in 3 file types: VCF, BAM, and FASTQ. The VCF files contain data for all individuals in a single file whereas BAM and FASTQ files contain data for individual samples (a single person's genes). Therefore, the data ingestion code to download each file type will vary.\n",
    "\n",
    "As can be expected, all the data will not be downloaded at once. This is simply unfeasible for storage considerations as terabytes of data are available. Instead, individual files will be downloaded to a 'data' directory when they are needed for analysis. In order to achieve this, a series of functions will be produced to make specific requests for data of different file types and units. When downloading VCF files, a specific chromosome (10,20,X, etc.) will be able to be specified. In downloading BAM files, a specific individual's identifier along with a chromosome will be specified. Lastly, for FASTQ, a specific sample will be able to be specified and their corresponding data will be downloaded. This schema allows for flexibility and prevents the downloading of unwanted files. Certainly, this schema may be modified in the future but for now it will act as a good foundation for the initial data ingestion pipeline.\n",
    "\n",
    "As of now, no plans are being made to extract data for other sources as this project is 1000 Genome Project data specific. Therefore, the ability of this data ingestion pipeline to work and be robust only for the FTP server is sufficient."
   ]
  }
 ],
 "metadata": {
  "kernelspec": {
   "display_name": "Python 3",
   "language": "python",
   "name": "python3"
  },
  "language_info": {
   "codemirror_mode": {
    "name": "ipython",
    "version": 3
   },
   "file_extension": ".py",
   "mimetype": "text/x-python",
   "name": "python",
   "nbconvert_exporter": "python",
   "pygments_lexer": "ipython3",
   "version": "3.7.3"
  }
 },
 "nbformat": 4,
 "nbformat_minor": 2
}
